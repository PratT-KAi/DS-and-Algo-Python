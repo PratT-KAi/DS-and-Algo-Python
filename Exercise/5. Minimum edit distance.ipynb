{
 "cells": [
  {
   "cell_type": "markdown",
   "id": "informational-woman",
   "metadata": {},
   "source": [
    "## Minimum Edit Distance\n",
    "\n",
    "The following interview was asked during a coding interview at Google:\n",
    "\n",
    "> Given two strings A and B, find the minimum number of steps required to convert A to B. (each operation is counted as 1 step.) You have the following 3 operations permitted on a word:\n",
    ">\n",
    "> * Insert a character\n",
    "> * Delete a character\n",
    "> * Replace a character\n",
    "\n",
    "Here's a visual representation (source: iDeserve)\n",
    "\n",
    "![](https://www.ideserve.co.in/learn/img/editDistance_0.gif)"
   ]
  },
  {
   "cell_type": "markdown",
   "id": "laden-packing",
   "metadata": {},
   "source": [
    "Brute force (recursion - exponential):"
   ]
  },
  {
   "cell_type": "code",
   "execution_count": 1,
   "id": "magnetic-glory",
   "metadata": {},
   "outputs": [],
   "source": [
    "def min_edit_distance(str1, str2, i1=0, i2=0):\n",
    "    if i1 == len(str1):\n",
    "        return len(str2) - i2\n",
    "    if i2 == len(str2):\n",
    "        return len(str1) - i1\n",
    "    if str1[i1] == str2[i2]:\n",
    "        return min_edit_distance(str1, str2, i1+1, i2+1)\n",
    "    return 1 + min(min_edit_distance(str1, str2, i1, i2+1), # Insert at beginning of str1\n",
    "                   min_edit_distance(str1, str2, i1+1, i2), # Remove from beginning of str1\n",
    "                   min_edit_distance(str1, str2, i1+1, i2+1)) # Swap first character of str1\n",
    "        "
   ]
  },
  {
   "cell_type": "code",
   "execution_count": 2,
   "id": "veterinary-effectiveness",
   "metadata": {},
   "outputs": [
    {
     "data": {
      "text/plain": [
       "5"
      ]
     },
     "execution_count": 2,
     "metadata": {},
     "output_type": "execute_result"
    }
   ],
   "source": [
    "min_edit_distance('wednesday', 'thursday')"
   ]
  },
  {
   "cell_type": "code",
   "execution_count": 3,
   "id": "beautiful-moral",
   "metadata": {},
   "outputs": [
    {
     "data": {
      "text/plain": [
       "5"
      ]
     },
     "execution_count": 3,
     "metadata": {},
     "output_type": "execute_result"
    }
   ],
   "source": [
    "min_edit_distance('intention', 'execution')"
   ]
  },
  {
   "cell_type": "markdown",
   "id": "smart-henry",
   "metadata": {},
   "source": [
    "Improved (memoization - $O(n_1*n_2)$):"
   ]
  },
  {
   "cell_type": "code",
   "execution_count": 4,
   "id": "lovely-artwork",
   "metadata": {},
   "outputs": [],
   "source": [
    "def min_edit_distance2(str1, str2):\n",
    "    memo = {}\n",
    "    def recurse(i1, i2):\n",
    "        key = (i1, i2)\n",
    "        if key in memo:\n",
    "            return memo[key]\n",
    "        elif i1 == len(str1):\n",
    "            memo[key] = len(str2) - i2\n",
    "        elif i2 == len(str2):\n",
    "            memo[key] = len(str1) - i1\n",
    "        elif str1[i1] == str2[i2]:\n",
    "            memo[key] = recurse(i1+1, i2+1)\n",
    "        else:\n",
    "            memo[key] = 1 + min(recurse(i1, i2+1), \n",
    "                                recurse(i1+1, i2), \n",
    "                                recurse(i1+1, i2+1))\n",
    "        return memo[key]\n",
    "    return recurse(0, 0)"
   ]
  },
  {
   "cell_type": "code",
   "execution_count": 5,
   "id": "detailed-variance",
   "metadata": {
    "scrolled": true
   },
   "outputs": [
    {
     "data": {
      "text/plain": [
       "5"
      ]
     },
     "execution_count": 5,
     "metadata": {},
     "output_type": "execute_result"
    }
   ],
   "source": [
    "min_edit_distance2('intention', 'execution')"
   ]
  },
  {
   "cell_type": "markdown",
   "id": "3697b841",
   "metadata": {},
   "source": [
    "Best (Dynamic programming - $O(n_1*n_2)$):"
   ]
  },
  {
   "cell_type": "code",
   "execution_count": 11,
   "id": "4e2b4c00",
   "metadata": {},
   "outputs": [],
   "source": [
    "def med_dp(str1, str2):\n",
    "    n1, n2 = len(str1), len(str2)\n",
    "    table = [[0 for _ in range(n2+1)] for _ in range(n1+1)]\n",
    "    for i in range(n2+1):\n",
    "        for j in range(n1+1):\n",
    "            # If first string is empty, only option is to\n",
    "            # insert all characters of second string\n",
    "            if i == 0:\n",
    "                table[i][j] = j    # Min. operations = j\n",
    " \n",
    "            # If second string is empty, only option is to\n",
    "            # remove all characters of second string\n",
    "            elif j == 0:\n",
    "                table[i][j] = i    # Min. operations = i\n",
    " \n",
    "            # If last characters are same, ignore last char\n",
    "            # and recur for remaining string\n",
    "            elif str1[i-1] == str2[j-1]:\n",
    "                table[i][j] = table[i-1][j-1]\n",
    " \n",
    "            # If last character are different, consider all\n",
    "            # possibilities and find minimum\n",
    "            else:\n",
    "                table[i][j] = 1 + min(table[i][j-1],        # Insert\n",
    "                                      table[i-1][j],        # Remove\n",
    "                                      table[i-1][j-1])      # Replace\n",
    "    return table[n1][n2]"
   ]
  },
  {
   "cell_type": "code",
   "execution_count": 12,
   "id": "4e0f3ae0",
   "metadata": {},
   "outputs": [
    {
     "data": {
      "text/plain": [
       "5"
      ]
     },
     "execution_count": 12,
     "metadata": {},
     "output_type": "execute_result"
    }
   ],
   "source": [
    "med_dp('intention', 'execution')"
   ]
  }
 ],
 "metadata": {
  "kernelspec": {
   "display_name": "Python 3",
   "language": "python",
   "name": "python3"
  },
  "language_info": {
   "codemirror_mode": {
    "name": "ipython",
    "version": 3
   },
   "file_extension": ".py",
   "mimetype": "text/x-python",
   "name": "python",
   "nbconvert_exporter": "python",
   "pygments_lexer": "ipython3",
   "version": "3.8.8"
  }
 },
 "nbformat": 4,
 "nbformat_minor": 5
}
